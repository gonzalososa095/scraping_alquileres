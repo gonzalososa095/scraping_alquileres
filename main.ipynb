{
 "cells": [
  {
   "cell_type": "code",
   "execution_count": 22,
   "metadata": {},
   "outputs": [],
   "source": [
    "from bs4 import BeautifulSoup\n",
    "import requests\n",
    "import re\n",
    "import numpy as np\n",
    "import pandas as pd"
   ]
  },
  {
   "cell_type": "code",
   "execution_count": 23,
   "metadata": {},
   "outputs": [],
   "source": [
    "url = 'https://www.argenprop.com/ph-alquiler-region-zona-norte'"
   ]
  },
  {
   "cell_type": "code",
   "execution_count": 24,
   "metadata": {},
   "outputs": [],
   "source": [
    "page = requests.get(url)\n",
    "soup = BeautifulSoup(page.text, 'lxml')\n",
    "dep = soup.find_all('div',class_='available__content')"
   ]
  },
  {
   "cell_type": "code",
   "execution_count": 25,
   "metadata": {},
   "outputs": [],
   "source": [
    "precios = []\n",
    "direccion = []\n",
    "titulo = []\n",
    "link = []\n",
    "superficie = []"
   ]
  },
  {
   "cell_type": "code",
   "execution_count": 26,
   "metadata": {},
   "outputs": [],
   "source": [
    "dep4 = soup.find_all('div',class_='card__monetary-values')\n",
    "\n",
    "for i in dep4:\n",
    "    x1 = i.p.text.split('$')[1]\n",
    "    x2 = x1.translate({ord(i): None for i in '.'})\n",
    "    precios.append(int(x2.strip()))"
   ]
  },
  {
   "cell_type": "code",
   "execution_count": 27,
   "metadata": {},
   "outputs": [
    {
     "data": {
      "text/plain": [
       "[15500,\n",
       " 25000,\n",
       " 24000,\n",
       " 14000,\n",
       " 14000,\n",
       " 17000,\n",
       " 13000,\n",
       " 25000,\n",
       " 12000,\n",
       " 43000,\n",
       " 20000,\n",
       " 18000,\n",
       " 20000,\n",
       " 20000,\n",
       " 15000,\n",
       " 9900,\n",
       " 20000,\n",
       " 24000,\n",
       " 15000,\n",
       " 15000]"
      ]
     },
     "execution_count": 27,
     "metadata": {},
     "output_type": "execute_result"
    }
   ],
   "source": [
    "precios"
   ]
  },
  {
   "cell_type": "code",
   "execution_count": 28,
   "metadata": {},
   "outputs": [],
   "source": [
    "dep5 = soup.find_all('h2',class_='card__address')\n",
    "for i in dep5:\n",
    "    x1 = i.text.translate({ord(i): None for i in '\\r\\n'})\n",
    "    direccion.append(x1.lstrip().rstrip())"
   ]
  },
  {
   "cell_type": "code",
   "execution_count": 29,
   "metadata": {},
   "outputs": [
    {
     "data": {
      "text/plain": [
       "['FRIAS 0',\n",
       " 'Domingo F Sarmiento 2000',\n",
       " 'B Rivadavia 2600',\n",
       " 'San Jose 1600, Jose Leon Suarez, General San Martin',\n",
       " 'Emilio Zola 6500, Jose Leon Suarez, General San Martin',\n",
       " 'Amador 3800, Munro-Este, Munro',\n",
       " 'Adolfo Bellocq 3100, Piso PH, Olivos, Vicente Lopez',\n",
       " 'RAFAEL OBLIGADO 6300, Carapachay, Vicente Lopez',\n",
       " 'Lynch Pueyrredon 4400, Piso 1°, Villa Ballester, General San Martin',\n",
       " 'Lavalle 2200, Florida, Vicente Lopez',\n",
       " 'Lavalle 2200, Florida, Vicente Lopez',\n",
       " 'Uriburu 4000, San Andres, General San Martin',\n",
       " 'Félix Ballester 2800, Piso 2°, San Andres, General San Martin',\n",
       " 'Mejico 4100, Villa Martelli, Vicente Lopez',\n",
       " 'Las Heras al 4700, Villa Martelli, Vicente Lopez',\n",
       " 'Lincoln 4800, General San Martin, Buenos Aires',\n",
       " 'Azopardo 4900, Villa Bonich, General San Martin',\n",
       " 'Francisco Berra 3000, San Isidro, Buenos Aires',\n",
       " 'Posadas 3200, Piso 1, Villa Libertad, General San Martin',\n",
       " 'M Lebensohn 0, Piso 1, Boulogne, San Isidro']"
      ]
     },
     "execution_count": 29,
     "metadata": {},
     "output_type": "execute_result"
    }
   ],
   "source": [
    "direccion"
   ]
  },
  {
   "cell_type": "code",
   "execution_count": 30,
   "metadata": {},
   "outputs": [],
   "source": [
    "dep6 = soup.find_all('h3',class_='card__title')\n",
    "for i in dep6:\n",
    "    titulo.append(i['title'])"
   ]
  },
  {
   "cell_type": "code",
   "execution_count": 31,
   "metadata": {},
   "outputs": [
    {
     "data": {
      "text/plain": [
       "['Ph - Alquiler - Argentina, General San Martín - FRIAS 47',\n",
       " 'Deposito en alquiler - NO APTO VIVIENDA',\n",
       " 'PH PLANTA BAJA AL FONDO DE 2 AMBIENTES CON PATIO',\n",
       " 'PH 2 ambientes c/patio- J. L. Suarez',\n",
       " 'PH, ALQUILER, PLANTA ALTA ',\n",
       " 'Departamento - Munro-Este',\n",
       " 'PH AL FDO 2 AMB ',\n",
       " 'PH 3 AMBIENTES EN PLANTA BAJA',\n",
       " 'V. BALLESTER  T/CASA PH 2 amb. 1° piso SIN EXPENSAS',\n",
       " 'ALQUILER DE PH 2 AMBIENTES EN FLORIDA',\n",
       " 'Ph - Alquiler - Argentina, Vicente López - Lavalle 2200',\n",
       " 'Ph de 3 ambientes, planta baja al frente sin expensas',\n",
       " 'ALQUILER SAN ANDRÉS DEPTO. 2 1/2 AMB. 2° PISO X ESC. ',\n",
       " 'Dos ambientes amplios y comodos con patio y jardin- Accesos proximos a Laprida- Gral Paz - Tecnopoli',\n",
       " 'PH monoambiente - Villa Martelli',\n",
       " 'PH en Alquiler de 1 ambiente',\n",
       " 'PH 3 Ambientes en alquiler 1er piso en escalera.',\n",
       " 'PH Al Frente Uso Profesional',\n",
       " 'Amplio PH 2 ambientes 1* piso al frente con balcon corrido y terraza propia',\n",
       " 'MONOAMBIENTE EN EL CENTRO DE BOULOGNE!']"
      ]
     },
     "execution_count": 31,
     "metadata": {},
     "output_type": "execute_result"
    }
   ],
   "source": [
    "titulo"
   ]
  },
  {
   "cell_type": "code",
   "execution_count": 32,
   "metadata": {},
   "outputs": [],
   "source": [
    "dep7 = soup.find_all('div',class_='listing__item')\n",
    "for i in dep7:\n",
    "    link.append('https://www.argenprop.com' + i.a['href'])"
   ]
  },
  {
   "cell_type": "code",
   "execution_count": 33,
   "metadata": {},
   "outputs": [
    {
     "data": {
      "text/plain": [
       "['https://www.argenprop.com/ph-en-alquiler-en-jose-leon-suarez-2-ambientes--7749874',\n",
       " 'https://www.argenprop.com/ph-en-alquiler-en-olivos--5573265',\n",
       " 'https://www.argenprop.com/ph-en-alquiler-en-munro--5932693',\n",
       " 'https://www.argenprop.com/ph-en-alquiler-en-jose-leon-suarez--6534823',\n",
       " 'https://www.argenprop.com/ph-en-alquiler-en-jose-leon-suarez-2-ambientes--6434141',\n",
       " 'https://www.argenprop.com/ph-en-alquiler-en-munro-este-2-ambientes--7387801',\n",
       " 'https://www.argenprop.com/ph-en-alquiler-en-olivos-2-ambientes--6760125',\n",
       " 'https://www.argenprop.com/ph-en-alquiler-en-carapachay--7990290',\n",
       " 'https://www.argenprop.com/ph-en-alquiler-en-villa-ballester-2-ambientes--7928665',\n",
       " 'https://www.argenprop.com/ph-en-alquiler-en-florida-2-ambientes--7895695',\n",
       " 'https://www.argenprop.com/ph-en-alquiler-en-florida-2-ambientes--7928228',\n",
       " 'https://www.argenprop.com/ph-en-alquiler-en-san-andres-3-ambientes--8058810',\n",
       " 'https://www.argenprop.com/ph-en-alquiler-en-san-andres-2-ambientes--8040002',\n",
       " 'https://www.argenprop.com/ph-en-alquiler-en-villa-martelli-2-ambientes--7970806',\n",
       " 'https://www.argenprop.com/ph-en-alquiler-en-villa-martelli-1-ambiente--7936492',\n",
       " 'https://www.argenprop.com/ph-en-alquiler-en-general-san-martin-1-ambiente--7936863',\n",
       " 'https://www.argenprop.com/ph-en-alquiler-en-villa-bonich-3-ambientes--8010827',\n",
       " 'https://www.argenprop.com/ph-en-alquiler-en-san-isidro-2-ambientes--5821791',\n",
       " 'https://www.argenprop.com/ph-en-alquiler-en-villa-libertad-2-ambientes--7981557',\n",
       " 'https://www.argenprop.com/ph-en-alquiler-en-boulogne--6751961']"
      ]
     },
     "execution_count": 33,
     "metadata": {},
     "output_type": "execute_result"
    }
   ],
   "source": [
    "link"
   ]
  },
  {
   "cell_type": "code",
   "execution_count": 34,
   "metadata": {},
   "outputs": [],
   "source": [
    "dep8 = soup.find_all('p',class_='card__common-data')\n",
    "for i in dep8:\n",
    "    xo = i.text\n",
    "    x1 = i.text.translate({ord(i): None for i in '\\r\\n-'})\n",
    "    #x2 = re.search('\\d* [m]',x1)\n",
    "    x3 = re.findall('\\d* [m]',x1)\n",
    "    try:\n",
    "        superficie.append(int(x3[0].split()[0]))\n",
    "    except:\n",
    "        superficie.append('')\n"
   ]
  },
  {
   "cell_type": "code",
   "execution_count": 35,
   "metadata": {},
   "outputs": [
    {
     "data": {
      "text/plain": [
       "[45,\n",
       " 100,\n",
       " '',\n",
       " '',\n",
       " 40,\n",
       " '',\n",
       " 30,\n",
       " '',\n",
       " '',\n",
       " 112,\n",
       " 33,\n",
       " 47,\n",
       " 52,\n",
       " '',\n",
       " 42,\n",
       " '',\n",
       " 52,\n",
       " 30,\n",
       " 50,\n",
       " 20]"
      ]
     },
     "execution_count": 35,
     "metadata": {},
     "output_type": "execute_result"
    }
   ],
   "source": [
    "superficie"
   ]
  },
  {
   "cell_type": "code",
   "execution_count": 36,
   "metadata": {},
   "outputs": [
    {
     "data": {
      "text/html": [
       "<div>\n",
       "<style scoped>\n",
       "    .dataframe tbody tr th:only-of-type {\n",
       "        vertical-align: middle;\n",
       "    }\n",
       "\n",
       "    .dataframe tbody tr th {\n",
       "        vertical-align: top;\n",
       "    }\n",
       "\n",
       "    .dataframe thead th {\n",
       "        text-align: right;\n",
       "    }\n",
       "</style>\n",
       "<table border=\"1\" class=\"dataframe\">\n",
       "  <thead>\n",
       "    <tr style=\"text-align: right;\">\n",
       "      <th></th>\n",
       "      <th>Titulo</th>\n",
       "      <th>Direccion</th>\n",
       "      <th>Precio</th>\n",
       "      <th>Superficie_total</th>\n",
       "      <th>Enlace</th>\n",
       "    </tr>\n",
       "  </thead>\n",
       "  <tbody>\n",
       "    <tr>\n",
       "      <th>0</th>\n",
       "      <td>Ph - Alquiler - Argentina, General San Martín ...</td>\n",
       "      <td>FRIAS 0</td>\n",
       "      <td>15500</td>\n",
       "      <td>45</td>\n",
       "      <td>https://www.argenprop.com/ph-en-alquiler-en-jo...</td>\n",
       "    </tr>\n",
       "    <tr>\n",
       "      <th>1</th>\n",
       "      <td>Deposito en alquiler - NO APTO VIVIENDA</td>\n",
       "      <td>Domingo F Sarmiento 2000</td>\n",
       "      <td>25000</td>\n",
       "      <td>100</td>\n",
       "      <td>https://www.argenprop.com/ph-en-alquiler-en-ol...</td>\n",
       "    </tr>\n",
       "    <tr>\n",
       "      <th>2</th>\n",
       "      <td>PH PLANTA BAJA AL FONDO DE 2 AMBIENTES CON PATIO</td>\n",
       "      <td>B Rivadavia 2600</td>\n",
       "      <td>24000</td>\n",
       "      <td></td>\n",
       "      <td>https://www.argenprop.com/ph-en-alquiler-en-mu...</td>\n",
       "    </tr>\n",
       "    <tr>\n",
       "      <th>3</th>\n",
       "      <td>PH 2 ambientes c/patio- J. L. Suarez</td>\n",
       "      <td>San Jose 1600, Jose Leon Suarez, General San M...</td>\n",
       "      <td>14000</td>\n",
       "      <td></td>\n",
       "      <td>https://www.argenprop.com/ph-en-alquiler-en-jo...</td>\n",
       "    </tr>\n",
       "    <tr>\n",
       "      <th>4</th>\n",
       "      <td>PH, ALQUILER, PLANTA ALTA</td>\n",
       "      <td>Emilio Zola 6500, Jose Leon Suarez, General Sa...</td>\n",
       "      <td>14000</td>\n",
       "      <td>40</td>\n",
       "      <td>https://www.argenprop.com/ph-en-alquiler-en-jo...</td>\n",
       "    </tr>\n",
       "    <tr>\n",
       "      <th>5</th>\n",
       "      <td>Departamento - Munro-Este</td>\n",
       "      <td>Amador 3800, Munro-Este, Munro</td>\n",
       "      <td>17000</td>\n",
       "      <td></td>\n",
       "      <td>https://www.argenprop.com/ph-en-alquiler-en-mu...</td>\n",
       "    </tr>\n",
       "    <tr>\n",
       "      <th>6</th>\n",
       "      <td>PH AL FDO 2 AMB</td>\n",
       "      <td>Adolfo Bellocq 3100, Piso PH, Olivos, Vicente ...</td>\n",
       "      <td>13000</td>\n",
       "      <td>30</td>\n",
       "      <td>https://www.argenprop.com/ph-en-alquiler-en-ol...</td>\n",
       "    </tr>\n",
       "    <tr>\n",
       "      <th>7</th>\n",
       "      <td>PH 3 AMBIENTES EN PLANTA BAJA</td>\n",
       "      <td>RAFAEL OBLIGADO 6300, Carapachay, Vicente Lopez</td>\n",
       "      <td>25000</td>\n",
       "      <td></td>\n",
       "      <td>https://www.argenprop.com/ph-en-alquiler-en-ca...</td>\n",
       "    </tr>\n",
       "    <tr>\n",
       "      <th>8</th>\n",
       "      <td>V. BALLESTER  T/CASA PH 2 amb. 1° piso SIN EXP...</td>\n",
       "      <td>Lynch Pueyrredon 4400, Piso 1°, Villa Balleste...</td>\n",
       "      <td>12000</td>\n",
       "      <td></td>\n",
       "      <td>https://www.argenprop.com/ph-en-alquiler-en-vi...</td>\n",
       "    </tr>\n",
       "    <tr>\n",
       "      <th>9</th>\n",
       "      <td>ALQUILER DE PH 2 AMBIENTES EN FLORIDA</td>\n",
       "      <td>Lavalle 2200, Florida, Vicente Lopez</td>\n",
       "      <td>43000</td>\n",
       "      <td>112</td>\n",
       "      <td>https://www.argenprop.com/ph-en-alquiler-en-fl...</td>\n",
       "    </tr>\n",
       "    <tr>\n",
       "      <th>10</th>\n",
       "      <td>Ph - Alquiler - Argentina, Vicente López - Lav...</td>\n",
       "      <td>Lavalle 2200, Florida, Vicente Lopez</td>\n",
       "      <td>20000</td>\n",
       "      <td>33</td>\n",
       "      <td>https://www.argenprop.com/ph-en-alquiler-en-fl...</td>\n",
       "    </tr>\n",
       "    <tr>\n",
       "      <th>11</th>\n",
       "      <td>Ph de 3 ambientes, planta baja al frente sin e...</td>\n",
       "      <td>Uriburu 4000, San Andres, General San Martin</td>\n",
       "      <td>18000</td>\n",
       "      <td>47</td>\n",
       "      <td>https://www.argenprop.com/ph-en-alquiler-en-sa...</td>\n",
       "    </tr>\n",
       "    <tr>\n",
       "      <th>12</th>\n",
       "      <td>ALQUILER SAN ANDRÉS DEPTO. 2 1/2 AMB. 2° PISO ...</td>\n",
       "      <td>Félix Ballester 2800, Piso 2°, San Andres, Gen...</td>\n",
       "      <td>20000</td>\n",
       "      <td>52</td>\n",
       "      <td>https://www.argenprop.com/ph-en-alquiler-en-sa...</td>\n",
       "    </tr>\n",
       "    <tr>\n",
       "      <th>13</th>\n",
       "      <td>Dos ambientes amplios y comodos con patio y ja...</td>\n",
       "      <td>Mejico 4100, Villa Martelli, Vicente Lopez</td>\n",
       "      <td>20000</td>\n",
       "      <td></td>\n",
       "      <td>https://www.argenprop.com/ph-en-alquiler-en-vi...</td>\n",
       "    </tr>\n",
       "    <tr>\n",
       "      <th>14</th>\n",
       "      <td>PH monoambiente - Villa Martelli</td>\n",
       "      <td>Las Heras al 4700, Villa Martelli, Vicente Lopez</td>\n",
       "      <td>15000</td>\n",
       "      <td>42</td>\n",
       "      <td>https://www.argenprop.com/ph-en-alquiler-en-vi...</td>\n",
       "    </tr>\n",
       "    <tr>\n",
       "      <th>15</th>\n",
       "      <td>PH en Alquiler de 1 ambiente</td>\n",
       "      <td>Lincoln 4800, General San Martin, Buenos Aires</td>\n",
       "      <td>9900</td>\n",
       "      <td></td>\n",
       "      <td>https://www.argenprop.com/ph-en-alquiler-en-ge...</td>\n",
       "    </tr>\n",
       "    <tr>\n",
       "      <th>16</th>\n",
       "      <td>PH 3 Ambientes en alquiler 1er piso en escalera.</td>\n",
       "      <td>Azopardo 4900, Villa Bonich, General San Martin</td>\n",
       "      <td>20000</td>\n",
       "      <td>52</td>\n",
       "      <td>https://www.argenprop.com/ph-en-alquiler-en-vi...</td>\n",
       "    </tr>\n",
       "    <tr>\n",
       "      <th>17</th>\n",
       "      <td>PH Al Frente Uso Profesional</td>\n",
       "      <td>Francisco Berra 3000, San Isidro, Buenos Aires</td>\n",
       "      <td>24000</td>\n",
       "      <td>30</td>\n",
       "      <td>https://www.argenprop.com/ph-en-alquiler-en-sa...</td>\n",
       "    </tr>\n",
       "    <tr>\n",
       "      <th>18</th>\n",
       "      <td>Amplio PH 2 ambientes 1* piso al frente con ba...</td>\n",
       "      <td>Posadas 3200, Piso 1, Villa Libertad, General ...</td>\n",
       "      <td>15000</td>\n",
       "      <td>50</td>\n",
       "      <td>https://www.argenprop.com/ph-en-alquiler-en-vi...</td>\n",
       "    </tr>\n",
       "    <tr>\n",
       "      <th>19</th>\n",
       "      <td>MONOAMBIENTE EN EL CENTRO DE BOULOGNE!</td>\n",
       "      <td>M Lebensohn 0, Piso 1, Boulogne, San Isidro</td>\n",
       "      <td>15000</td>\n",
       "      <td>20</td>\n",
       "      <td>https://www.argenprop.com/ph-en-alquiler-en-bo...</td>\n",
       "    </tr>\n",
       "  </tbody>\n",
       "</table>\n",
       "</div>"
      ],
      "text/plain": [
       "                                               Titulo  \\\n",
       "0   Ph - Alquiler - Argentina, General San Martín ...   \n",
       "1             Deposito en alquiler - NO APTO VIVIENDA   \n",
       "2    PH PLANTA BAJA AL FONDO DE 2 AMBIENTES CON PATIO   \n",
       "3                PH 2 ambientes c/patio- J. L. Suarez   \n",
       "4                          PH, ALQUILER, PLANTA ALTA    \n",
       "5                           Departamento - Munro-Este   \n",
       "6                                    PH AL FDO 2 AMB    \n",
       "7                       PH 3 AMBIENTES EN PLANTA BAJA   \n",
       "8   V. BALLESTER  T/CASA PH 2 amb. 1° piso SIN EXP...   \n",
       "9               ALQUILER DE PH 2 AMBIENTES EN FLORIDA   \n",
       "10  Ph - Alquiler - Argentina, Vicente López - Lav...   \n",
       "11  Ph de 3 ambientes, planta baja al frente sin e...   \n",
       "12  ALQUILER SAN ANDRÉS DEPTO. 2 1/2 AMB. 2° PISO ...   \n",
       "13  Dos ambientes amplios y comodos con patio y ja...   \n",
       "14                   PH monoambiente - Villa Martelli   \n",
       "15                       PH en Alquiler de 1 ambiente   \n",
       "16   PH 3 Ambientes en alquiler 1er piso en escalera.   \n",
       "17                       PH Al Frente Uso Profesional   \n",
       "18  Amplio PH 2 ambientes 1* piso al frente con ba...   \n",
       "19             MONOAMBIENTE EN EL CENTRO DE BOULOGNE!   \n",
       "\n",
       "                                            Direccion  Precio  \\\n",
       "0                                             FRIAS 0   15500   \n",
       "1                            Domingo F Sarmiento 2000   25000   \n",
       "2                                    B Rivadavia 2600   24000   \n",
       "3   San Jose 1600, Jose Leon Suarez, General San M...   14000   \n",
       "4   Emilio Zola 6500, Jose Leon Suarez, General Sa...   14000   \n",
       "5                      Amador 3800, Munro-Este, Munro   17000   \n",
       "6   Adolfo Bellocq 3100, Piso PH, Olivos, Vicente ...   13000   \n",
       "7     RAFAEL OBLIGADO 6300, Carapachay, Vicente Lopez   25000   \n",
       "8   Lynch Pueyrredon 4400, Piso 1°, Villa Balleste...   12000   \n",
       "9                Lavalle 2200, Florida, Vicente Lopez   43000   \n",
       "10               Lavalle 2200, Florida, Vicente Lopez   20000   \n",
       "11       Uriburu 4000, San Andres, General San Martin   18000   \n",
       "12  Félix Ballester 2800, Piso 2°, San Andres, Gen...   20000   \n",
       "13         Mejico 4100, Villa Martelli, Vicente Lopez   20000   \n",
       "14   Las Heras al 4700, Villa Martelli, Vicente Lopez   15000   \n",
       "15     Lincoln 4800, General San Martin, Buenos Aires    9900   \n",
       "16    Azopardo 4900, Villa Bonich, General San Martin   20000   \n",
       "17     Francisco Berra 3000, San Isidro, Buenos Aires   24000   \n",
       "18  Posadas 3200, Piso 1, Villa Libertad, General ...   15000   \n",
       "19        M Lebensohn 0, Piso 1, Boulogne, San Isidro   15000   \n",
       "\n",
       "   Superficie_total                                             Enlace  \n",
       "0                45  https://www.argenprop.com/ph-en-alquiler-en-jo...  \n",
       "1               100  https://www.argenprop.com/ph-en-alquiler-en-ol...  \n",
       "2                    https://www.argenprop.com/ph-en-alquiler-en-mu...  \n",
       "3                    https://www.argenprop.com/ph-en-alquiler-en-jo...  \n",
       "4                40  https://www.argenprop.com/ph-en-alquiler-en-jo...  \n",
       "5                    https://www.argenprop.com/ph-en-alquiler-en-mu...  \n",
       "6                30  https://www.argenprop.com/ph-en-alquiler-en-ol...  \n",
       "7                    https://www.argenprop.com/ph-en-alquiler-en-ca...  \n",
       "8                    https://www.argenprop.com/ph-en-alquiler-en-vi...  \n",
       "9               112  https://www.argenprop.com/ph-en-alquiler-en-fl...  \n",
       "10               33  https://www.argenprop.com/ph-en-alquiler-en-fl...  \n",
       "11               47  https://www.argenprop.com/ph-en-alquiler-en-sa...  \n",
       "12               52  https://www.argenprop.com/ph-en-alquiler-en-sa...  \n",
       "13                   https://www.argenprop.com/ph-en-alquiler-en-vi...  \n",
       "14               42  https://www.argenprop.com/ph-en-alquiler-en-vi...  \n",
       "15                   https://www.argenprop.com/ph-en-alquiler-en-ge...  \n",
       "16               52  https://www.argenprop.com/ph-en-alquiler-en-vi...  \n",
       "17               30  https://www.argenprop.com/ph-en-alquiler-en-sa...  \n",
       "18               50  https://www.argenprop.com/ph-en-alquiler-en-vi...  \n",
       "19               20  https://www.argenprop.com/ph-en-alquiler-en-bo...  "
      ]
     },
     "execution_count": 36,
     "metadata": {},
     "output_type": "execute_result"
    }
   ],
   "source": [
    "d = {'Titulo':titulo,'Direccion':direccion,'Precio':precios,'Superficie_total':superficie,'Enlace':link}\n",
    "df = pd.DataFrame(data=d)\n",
    "df.to_csv('resultados.csv')\n",
    "df"
   ]
  },
  {
   "cell_type": "code",
   "execution_count": null,
   "metadata": {},
   "outputs": [],
   "source": []
  }
 ],
 "metadata": {
  "kernelspec": {
   "display_name": "scraping",
   "language": "python",
   "name": "scraping"
  },
  "language_info": {
   "codemirror_mode": {
    "name": "ipython",
    "version": 3
   },
   "file_extension": ".py",
   "mimetype": "text/x-python",
   "name": "python",
   "nbconvert_exporter": "python",
   "pygments_lexer": "ipython3",
   "version": "3.8.5"
  }
 },
 "nbformat": 4,
 "nbformat_minor": 4
}
